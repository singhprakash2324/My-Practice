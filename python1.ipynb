{
 "cells": [
  {
   "cell_type": "code",
   "execution_count": 4,
   "id": "2ba4cc49-41fe-417f-8296-2724c9a94eb5",
   "metadata": {
    "tags": []
   },
   "outputs": [
    {
     "name": "stdout",
     "output_type": "stream",
     "text": [
      "babu \"anurag\"\n"
     ]
    }
   ],
   "source": [
    "print('babu \"anurag\"')"
   ]
  },
  {
   "cell_type": "code",
   "execution_count": 5,
   "id": "8318dc91-6908-43d9-8d59-2aa1ec508e2b",
   "metadata": {
    "tags": []
   },
   "outputs": [
    {
     "name": "stdout",
     "output_type": "stream",
     "text": [
      "Abhinav is very talented guy\n",
      "     and he is also very smart\n"
     ]
    }
   ],
   "source": [
    "print('''Abhinav is very talented guy\n",
    "     and he is also very smart''')"
   ]
  },
  {
   "cell_type": "code",
   "execution_count": 7,
   "id": "20c04272-2331-48d2-8099-27ab5bf75fed",
   "metadata": {
    "tags": []
   },
   "outputs": [
    {
     "name": "stdout",
     "output_type": "stream",
     "text": [
      "Abhinav is very talented guy\n",
      "     and he is also very smart\n"
     ]
    }
   ],
   "source": [
    "print('''Abhinav is very talented guy\n",
    "     and he is also very smart''')"
   ]
  },
  {
   "cell_type": "code",
   "execution_count": 9,
   "id": "07565c24-8618-4d99-b7f3-2fd494da7fc8",
   "metadata": {
    "tags": []
   },
   "outputs": [
    {
     "name": "stdout",
     "output_type": "stream",
     "text": [
      "a 1\n",
      "b 2\n",
      "c 3\n",
      "d 4\n"
     ]
    },
    {
     "name": "stdout",
     "output_type": "stream",
     "text": [
      "10\n",
      "6\n",
      "3\n"
     ]
    }
   ],
   "source": [
    "def abc(*arg):\n",
    "    r=0\n",
    "    for i in arg:\n",
    "        r=r+i\n",
    "        return r\n",
    "a=int(input(\"a\"))\n",
    "b=int(input(\"b\"))\n",
    "c=int(input(\"c\"))\n",
    "d=int(input(\"d\"))\n",
    "print(abc(a+b+c+d))\n",
    "\n",
    "print(abc(a+b+c))\n",
    "print(abc(a+b))"
   ]
  },
  {
   "cell_type": "code",
   "execution_count": 12,
   "id": "056a6bc1-20a6-4ebd-9afb-cd1efe50d07d",
   "metadata": {
    "tags": []
   },
   "outputs": [
    {
     "name": "stdout",
     "output_type": "stream",
     "text": [
      "input salary:  100000\n"
     ]
    },
    {
     "name": "stdout",
     "output_type": "stream",
     "text": [
      "20000.0\n"
     ]
    }
   ],
   "source": [
    "tax=lambda salary: salary*20/100\n",
    "salary=int(input(\"input salary: \"))\n",
    "print(tax(salary))"
   ]
  },
  {
   "cell_type": "code",
   "execution_count": 13,
   "id": "92ccae6a-28ac-4b4c-a82f-48bee158392f",
   "metadata": {
    "tags": []
   },
   "outputs": [
    {
     "name": "stdout",
     "output_type": "stream",
     "text": [
      "input salary 100\n"
     ]
    },
    {
     "name": "stdout",
     "output_type": "stream",
     "text": [
      "20.0\n"
     ]
    }
   ],
   "source": [
    "tax = lambda salary :salary*20/100\n",
    "salary=int(input(\"input salary\"))\n",
    "print(tax(salary))"
   ]
  },
  {
   "cell_type": "code",
   "execution_count": 1,
   "id": "9f6ba623-e3e1-4ab1-8e73-0d7cb4209ff6",
   "metadata": {},
   "outputs": [
    {
     "ename": "SyntaxError",
     "evalue": "invalid syntax (701752113.py, line 4)",
     "output_type": "error",
     "traceback": [
      "\u001b[0;36m  Cell \u001b[0;32mIn[1], line 4\u001b[0;36m\u001b[0m\n\u001b[0;31m    print(a*b for i in in [1,2,3,4,5] if a%6==0)\u001b[0m\n\u001b[0m                       ^\u001b[0m\n\u001b[0;31mSyntaxError\u001b[0m\u001b[0;31m:\u001b[0m invalid syntax\n"
     ]
    }
   ],
   "source": [
    "a=int(input(\"enter a number: \"))\n",
    "b=int(input(\"enter a number: \"))\n",
    "\n",
    "print(a*b for i in in [1,2,3,4,5] if a%6==0)"
   ]
  },
  {
   "cell_type": "code",
   "execution_count": 2,
   "id": "9cffdb45-598c-4345-a815-afeba17b61a3",
   "metadata": {
    "tags": []
   },
   "outputs": [
    {
     "ename": "SyntaxError",
     "evalue": "invalid syntax (430549028.py, line 4)",
     "output_type": "error",
     "traceback": [
      "\u001b[0;36m  Cell \u001b[0;32mIn[2], line 4\u001b[0;36m\u001b[0m\n\u001b[0;31m    print(i for i in in [1,2,3,4,5] if a%6==0)\u001b[0m\n\u001b[0m                     ^\u001b[0m\n\u001b[0;31mSyntaxError\u001b[0m\u001b[0;31m:\u001b[0m invalid syntax\n"
     ]
    }
   ],
   "source": [
    "a=int(input(\"enter a number: \"))\n",
    "b=int(input(\"enter a number: \"))\n",
    "\n",
    "print(i for i in in [1,2,3,4,5] if a%6==0)"
   ]
  },
  {
   "cell_type": "code",
   "execution_count": 3,
   "id": "4bcc612b-046e-4005-ad09-0d081217230c",
   "metadata": {
    "tags": []
   },
   "outputs": [
    {
     "ename": "SyntaxError",
     "evalue": "invalid syntax (2374696194.py, line 4)",
     "output_type": "error",
     "traceback": [
      "\u001b[0;36m  Cell \u001b[0;32mIn[3], line 4\u001b[0;36m\u001b[0m\n\u001b[0;31m    print([a*b for i in in range(a,b) if a%6==0])\u001b[0m\n\u001b[0m                        ^\u001b[0m\n\u001b[0;31mSyntaxError\u001b[0m\u001b[0;31m:\u001b[0m invalid syntax\n"
     ]
    }
   ],
   "source": [
    "a=int(input(\"enter a number: \"))\n",
    "b=int(input(\"enter a number: \"))\n",
    "\n",
    "print([a*b for i in in range(a,b) if a%6==0])"
   ]
  },
  {
   "cell_type": "code",
   "execution_count": 4,
   "id": "851bd41c-11b1-4e91-8fe8-5b9112bc2d18",
   "metadata": {
    "tags": []
   },
   "outputs": [
    {
     "name": "stdout",
     "output_type": "stream",
     "text": [
      "enter a number:  12\n",
      "enter a number:  12\n"
     ]
    },
    {
     "name": "stdout",
     "output_type": "stream",
     "text": [
      "[0, 1, 2, 3, 4, 5, 6, 7, 8, 9, 10, 11, 12, 13, 14, 15, 16, 17, 18, 19, 20, 21, 22, 23, 24, 25, 26, 27, 28, 29, 30, 31, 32, 33, 34, 35, 36, 37, 38, 39, 40, 41, 42, 43, 44, 45, 46, 47, 48, 49]\n"
     ]
    }
   ],
   "source": [
    "a=int(input(\"enter a number: \"))\n",
    "b=int(input(\"enter a number: \"))\n",
    "\n",
    "print([i for i in range(0,50) if a%6==0])"
   ]
  },
  {
   "cell_type": "code",
   "execution_count": 5,
   "id": "fcd1e78f-6c6c-4747-899d-e25a67e7a203",
   "metadata": {
    "tags": []
   },
   "outputs": [
    {
     "name": "stdout",
     "output_type": "stream",
     "text": [
      "[0, 1, 2, 3, 4, 5, 6, 7, 8, 9, 10, 11, 12, 13, 14, 15, 16, 17, 18, 19, 20, 21, 22, 23, 24, 25, 26, 27, 28, 29, 30, 31, 32, 33, 34, 35, 36, 37, 38, 39, 40, 41, 42, 43, 44, 45, 46, 47, 48, 49]\n"
     ]
    }
   ],
   "source": [
    "print([i for i in range(0,50) if a%6==0])"
   ]
  },
  {
   "cell_type": "code",
   "execution_count": 7,
   "id": "00c392e8-dec2-4af4-8c8f-e65a01f4cbb6",
   "metadata": {
    "tags": []
   },
   "outputs": [
    {
     "ename": "SyntaxError",
     "evalue": "incomplete input (595091729.py, line 1)",
     "output_type": "error",
     "traceback": [
      "\u001b[0;36m  Cell \u001b[0;32mIn[7], line 1\u001b[0;36m\u001b[0m\n\u001b[0;31m    print([i for i in range(0,50) if i%6==0]\u001b[0m\n\u001b[0m                                            ^\u001b[0m\n\u001b[0;31mSyntaxError\u001b[0m\u001b[0;31m:\u001b[0m incomplete input\n"
     ]
    }
   ],
   "source": [
    "print([i for i in range(0,50) if i%6==0]"
   ]
  },
  {
   "cell_type": "code",
   "execution_count": 10,
   "id": "513dce6b-8100-4efb-9cc4-175cb249071e",
   "metadata": {
    "tags": []
   },
   "outputs": [
    {
     "name": "stdout",
     "output_type": "stream",
     "text": [
      "[3, 6]\n"
     ]
    }
   ],
   "source": [
    "print([a for a in [1,2,3,4,5,6] for b in [6,8,3,10] if a==b ])"
   ]
  },
  {
   "cell_type": "code",
   "execution_count": 13,
   "id": "1ada0a84-4f08-4ac9-b815-654046b3aa7e",
   "metadata": {
    "tags": []
   },
   "outputs": [
    {
     "name": "stdout",
     "output_type": "stream",
     "text": [
      "enter a number 12\n",
      "enter range 12\n"
     ]
    },
    {
     "name": "stdout",
     "output_type": "stream",
     "text": [
      "[0, 12, 24, 36, 48, 60, 72, 84, 96, 108, 120]\n"
     ]
    }
   ],
   "source": [
    "a=int(input(\"enter a number\"))\n",
    "b=int(input(\"enter range\"))\n",
    "print([a*i for i in range(0,11) if a*i!=42]) "
   ]
  },
  {
   "cell_type": "code",
   "execution_count": 14,
   "id": "b331a8cf-1744-439d-b10d-087290a296ca",
   "metadata": {
    "tags": []
   },
   "outputs": [
    {
     "name": "stdout",
     "output_type": "stream",
     "text": [
      "[0, 7, 14, 21, 28, 35, 49, 56, 63, 70]\n"
     ]
    }
   ],
   "source": [
    "a=7\n",
    "print([a*i for i in range(0,11) if a*i!=42]) "
   ]
  },
  {
   "cell_type": "code",
   "execution_count": 18,
   "id": "38f11789-9668-4377-9f18-d4157206f15f",
   "metadata": {
    "tags": []
   },
   "outputs": [
    {
     "name": "stdout",
     "output_type": "stream",
     "text": [
      "[0, 7, 14, 21, 28, 35, 49, 56, 63, 70]\n",
      "[0, 7, 14, 21, 28, 35, 49, 56, 63, 70]\n",
      "[70, 63, 56, 49, 35, 28, 21, 14, 7, 0]\n"
     ]
    }
   ],
   "source": [
    "a=7\n",
    "b=([a*i for i in range(0,11) if a*i!=42]) \n",
    "print(b)\n",
    "print(sorted(b))\n",
    "print(sorted(b,reverse=True))"
   ]
  },
  {
   "cell_type": "markdown",
   "id": "b4c11ddd-a549-46ea-95fa-e48f3f94a1d0",
   "metadata": {
    "tags": []
   },
   "source": [
    "## a=int(input(\"enter a number: \"))\n",
    "b=int(input(\"enter a range : \"))\n",
    "print([a*i for i in range(1,b)])"
   ]
  },
  {
   "cell_type": "code",
   "execution_count": 25,
   "id": "e32c8e7a-c37c-47ba-836b-88ad4c2db38a",
   "metadata": {
    "tags": []
   },
   "outputs": [
    {
     "name": "stdout",
     "output_type": "stream",
     "text": [
      "data:  12,34,54\n"
     ]
    },
    {
     "ename": "ValueError",
     "evalue": "invalid literal for int() with base 10: '12,34,54'",
     "output_type": "error",
     "traceback": [
      "\u001b[0;31m---------------------------------------------------------------------------\u001b[0m",
      "\u001b[0;31mValueError\u001b[0m                                Traceback (most recent call last)",
      "Cell \u001b[0;32mIn[25], line 1\u001b[0m\n\u001b[0;32m----> 1\u001b[0m list1\u001b[38;5;241m=\u001b[39m[\u001b[38;5;28mint\u001b[39m(x) \u001b[38;5;28;01mfor\u001b[39;00m x \u001b[38;5;129;01min\u001b[39;00m \u001b[38;5;28minput\u001b[39m(\u001b[38;5;124m\"\u001b[39m\u001b[38;5;124mdata: \u001b[39m\u001b[38;5;124m\"\u001b[39m)\u001b[38;5;241m.\u001b[39msplit(\u001b[38;5;124m\"\u001b[39m\u001b[38;5;124m \u001b[39m\u001b[38;5;124m\"\u001b[39m)]\n\u001b[1;32m      2\u001b[0m \u001b[38;5;28mprint\u001b[39m(list1)\n",
      "Cell \u001b[0;32mIn[25], line 1\u001b[0m, in \u001b[0;36m<listcomp>\u001b[0;34m(.0)\u001b[0m\n\u001b[0;32m----> 1\u001b[0m list1\u001b[38;5;241m=\u001b[39m[\u001b[38;5;28mint\u001b[39m(x) \u001b[38;5;28;01mfor\u001b[39;00m x \u001b[38;5;129;01min\u001b[39;00m \u001b[38;5;28minput\u001b[39m(\u001b[38;5;124m\"\u001b[39m\u001b[38;5;124mdata: \u001b[39m\u001b[38;5;124m\"\u001b[39m)\u001b[38;5;241m.\u001b[39msplit(\u001b[38;5;124m\"\u001b[39m\u001b[38;5;124m \u001b[39m\u001b[38;5;124m\"\u001b[39m)]\n\u001b[1;32m      2\u001b[0m \u001b[38;5;28mprint\u001b[39m(list1)\n",
      "\u001b[0;31mValueError\u001b[0m: invalid literal for int() with base 10: '12,34,54'"
     ]
    }
   ],
   "source": [
    "list1=[int(x) for x in input(\"data: \").split(\" \")]\n",
    "print(list1)"
   ]
  },
  {
   "cell_type": "code",
   "execution_count": 26,
   "id": "56a3c1e2-32a8-409d-9e48-69e2d5f8a373",
   "metadata": {
    "tags": []
   },
   "outputs": [
    {
     "name": "stdout",
     "output_type": "stream",
     "text": [
      "data: 12,32,21\n"
     ]
    },
    {
     "name": "stdout",
     "output_type": "stream",
     "text": [
      "['12,32,21']\n"
     ]
    }
   ],
   "source": [
    "list1=[x for x in input(\"data:\").split(' ')]\n",
    "print(list1)\n"
   ]
  },
  {
   "cell_type": "code",
   "execution_count": null,
   "id": "c8d9ac26-ab37-451d-96c5-57407dedd1fe",
   "metadata": {},
   "outputs": [],
   "source": [
    "dict={key:value for key,value in enumerate(list1)}\n",
    "print(dict1)"
   ]
  },
  {
   "cell_type": "code",
   "execution_count": 31,
   "id": "c7471c3c-911a-43cd-90ed-46ab2d6a9bdb",
   "metadata": {
    "tags": []
   },
   "outputs": [
    {
     "name": "stdout",
     "output_type": "stream",
     "text": [
      "{'anil': 10, 'ram': 20, 'shyam': 30, 'ghanshyam': 40, 'rahul': 50}\n"
     ]
    }
   ],
   "source": [
    "list1=[10,20,30,40,50]\n",
    "list2=[\"anil\",\"ram\",\"shyam\",\"ghanshyam\",\"rahul\"]\n",
    "dict1={list2:list1 for list2,list1 in zip(list2,list1)}\n",
    "print(dict1)"
   ]
  },
  {
   "cell_type": "code",
   "execution_count": 33,
   "id": "a466b74e-17a6-4bf3-bb42-81a9f2ff74a8",
   "metadata": {
    "tags": []
   },
   "outputs": [
    {
     "name": "stdout",
     "output_type": "stream",
     "text": [
      "['a', 'b', 'c', 'd', 'e', 'f', 'g', 'h', 'i', 'j', 'k', 'l', 'm', 'n', 'o', 'p', 'q', 'r', 's', 't', 'u', 'v', 'w', 'x', 'y', 'z']\n"
     ]
    }
   ],
   "source": [
    "import string\n",
    "alphabet = list(string.ascii_lowercase)\n",
    "print(alphabet)"
   ]
  },
  {
   "cell_type": "code",
   "execution_count": 41,
   "id": "190bfb5c-30d6-486a-9073-ac68f294fae3",
   "metadata": {
    "tags": []
   },
   "outputs": [
    {
     "name": "stdout",
     "output_type": "stream",
     "text": [
      "{65: 'A', 66: 'B', 67: 'C', 68: 'D', 69: 'E', 70: 'F', 71: 'G', 72: 'H', 73: 'I', 74: 'J', 75: 'K', 76: 'L', 77: 'M', 78: 'N', 79: 'O', 80: 'P', 81: 'Q', 82: 'R', 83: 'S', 84: 'T', 85: 'U', 86: 'V', 87: 'W', 88: 'X', 89: 'Y', 90: 'Z'}\n"
     ]
    }
   ],
   "source": [
    "import string\n",
    "alpha = list(string.ascii_uppercase)\n",
    "\n",
    "\n",
    "num = []\n",
    "for i in range(65, 91):\n",
    "    num.append((i))\n",
    "\n",
    "    \n",
    "dict1={num:alpha for num,alpha in zip(num,alpha)}\n",
    "print(dict1)"
   ]
  },
  {
   "cell_type": "code",
   "execution_count": 48,
   "id": "9a75aa46-693e-4f90-9632-28dcc1a4e30a",
   "metadata": {
    "tags": []
   },
   "outputs": [],
   "source": [
    "import string\n",
    "alpha = list(string.ascii_uppercase)\n",
    "\n",
    "\n",
    "num = []\n",
    "for i in range(65, 91):\n",
    "    num.append((i))\n"
   ]
  },
  {
   "cell_type": "code",
   "execution_count": 57,
   "id": "7f968b72-1c79-4c2a-9316-5f8ac669c06b",
   "metadata": {
    "tags": []
   },
   "outputs": [
    {
     "name": "stdout",
     "output_type": "stream",
     "text": [
      "(65 ,A),(66 ,B),(67 ,C),(68 ,D),(69 ,E),(70 ,F),(71 ,G),(72 ,H),(73 ,I),(74 ,J),(75 ,K),(76 ,L),(77 ,M),(78 ,N),(79 ,O),(80 ,P),(81 ,Q),(82 ,R),(83 ,S),(84 ,T),(85 ,U),(86 ,V),(87 ,W),(88 ,X),(89 ,Y),(90 ,Z),"
     ]
    }
   ],
   "source": [
    "for i in range(65,91):\n",
    "    print(\"({} ,{})\".format(i,chr(i)),end=(','))"
   ]
  },
  {
   "cell_type": "code",
   "execution_count": 60,
   "id": "35be8203-7258-42e2-b60c-93eb39ef14cc",
   "metadata": {
    "tags": []
   },
   "outputs": [
    {
     "ename": "SyntaxError",
     "evalue": "cannot assign to function call (3318175755.py, line 1)",
     "output_type": "error",
     "traceback": [
      "\u001b[0;36m  Cell \u001b[0;32mIn[60], line 1\u001b[0;36m\u001b[0m\n\u001b[0;31m    dict1={chr(key):key for chr(key),key for key in range (65:91)}\u001b[0m\n\u001b[0m                            ^\u001b[0m\n\u001b[0;31mSyntaxError\u001b[0m\u001b[0;31m:\u001b[0m cannot assign to function call\n"
     ]
    }
   ],
   "source": [
    "dict1={chr(key):key for chr(key),key for key in range (65:91)}\n",
    "print(dict1)"
   ]
  },
  {
   "cell_type": "code",
   "execution_count": null,
   "id": "48b3500c-c031-4cf0-9f4b-5867e0b6f500",
   "metadata": {},
   "outputs": [],
   "source": []
  },
  {
   "cell_type": "code",
   "execution_count": 6,
   "id": "67cb9b85-6029-4121-8e82-583e57e5700d",
   "metadata": {},
   "outputs": [
    {
     "ename": "TypeError",
     "evalue": "car() takes no arguments",
     "output_type": "error",
     "traceback": [
      "\u001b[0;31m---------------------------------------------------------------------------\u001b[0m",
      "\u001b[0;31mTypeError\u001b[0m                                 Traceback (most recent call last)",
      "Cell \u001b[0;32mIn[6], line 1\u001b[0m\n\u001b[0;32m----> 1\u001b[0m \u001b[38;5;28;01mclass\u001b[39;00m \u001b[38;5;21;01mcar\u001b[39;00m():\n\u001b[1;32m      3\u001b[0m     \u001b[38;5;28;01mdef\u001b[39;00m \u001b[38;5;21m__inti__\u001b[39m(\u001b[38;5;28mself\u001b[39m, name , color):\n\u001b[1;32m      4\u001b[0m         \u001b[38;5;28mself\u001b[39m\u001b[38;5;241m.\u001b[39mname \u001b[38;5;241m=\u001b[39m name\n",
      "Cell \u001b[0;32mIn[6], line 9\u001b[0m, in \u001b[0;36mcar\u001b[0;34m()\u001b[0m\n\u001b[1;32m      7\u001b[0m     \u001b[38;5;28mprint\u001b[39m(\u001b[38;5;124m\"\u001b[39m\u001b[38;5;124mtop speed of \u001b[39m\u001b[38;5;124m\"\u001b[39m\u001b[38;5;241m+\u001b[39m\u001b[38;5;28mself\u001b[39m\u001b[38;5;241m.\u001b[39mname \u001b[38;5;241m+\u001b[39m \u001b[38;5;124m\"\u001b[39m\u001b[38;5;124mis 150km/hr \u001b[39m\u001b[38;5;124m\"\u001b[39m)\n\u001b[1;32m      8\u001b[0m \u001b[38;5;66;03m# creating an instinct\u001b[39;00m\n\u001b[0;32m----> 9\u001b[0m honda_city\u001b[38;5;241m=\u001b[39mcar(\u001b[38;5;124m\"\u001b[39m\u001b[38;5;124mhonda city \u001b[39m\u001b[38;5;124m\"\u001b[39m,\u001b[38;5;124m\"\u001b[39m\u001b[38;5;124mred\u001b[39m\u001b[38;5;124m\"\u001b[39m)\n\u001b[1;32m     10\u001b[0m honda_civic\u001b[38;5;241m=\u001b[39mcar(\u001b[38;5;124m\"\u001b[39m\u001b[38;5;124mhonda civic\u001b[39m\u001b[38;5;124m\"\u001b[39m,\u001b[38;5;124m\"\u001b[39m\u001b[38;5;124mwhite\u001b[39m\u001b[38;5;124m\"\u001b[39m)\n\u001b[1;32m     12\u001b[0m honda_city\u001b[38;5;241m.\u001b[39mget_speed()\n",
      "\u001b[0;31mTypeError\u001b[0m: car() takes no arguments"
     ]
    }
   ],
   "source": [
    "class car():\n",
    "\n",
    "    def __inti__(self, name , color):\n",
    "        self.name = name\n",
    "        self.color = color\n",
    "    def get_speed(self):\n",
    "        print(\"top speed of \"+self.name + \"is 150km/hr \")\n",
    "    # creating an instinct\n",
    "    honda_city=car(\"honda city \",\"red\")\n",
    "    honda_civic=car(\"honda civic\",\"white\")\n",
    "    \n",
    "    honda_city.get_speed()"
   ]
  },
  {
   "cell_type": "code",
   "execution_count": 12,
   "id": "8980a670-1351-4b4b-a653-09dc77e84932",
   "metadata": {},
   "outputs": [
    {
     "name": "stdout",
     "output_type": "stream",
     "text": [
      "name of car is honda city color is red\n"
     ]
    }
   ],
   "source": [
    "class Car():\n",
    "    def __init__(self,name,color):\n",
    "        self.name=name\n",
    "        self.color=color\n",
    "        \n",
    "    def get_speed(self):\n",
    "        print(\"name of car is \"+self.name+\" color is \"+self.color)\n",
    "honda_city=Car(\"honda city\",\"red\")\n",
    "honda_city.get_speed()\n"
   ]
  },
  {
   "cell_type": "code",
   "execution_count": null,
   "id": "f45f3c0c-e6e3-48d0-9f93-8da172a0a474",
   "metadata": {},
   "outputs": [],
   "source": []
  },
  {
   "cell_type": "code",
   "execution_count": null,
   "id": "f3c7eebc-e6b6-4499-93bc-239fd120c8f2",
   "metadata": {},
   "outputs": [],
   "source": []
  },
  {
   "cell_type": "code",
   "execution_count": null,
   "id": "50fa51a4-b451-4091-b9f2-52c7d558925d",
   "metadata": {},
   "outputs": [],
   "source": []
  },
  {
   "cell_type": "code",
   "execution_count": 14,
   "id": "8d039fb7-a2e4-4a5a-a310-969253388ad0",
   "metadata": {
    "tags": []
   },
   "outputs": [
    {
     "name": "stdout",
     "output_type": "stream",
     "text": [
      "name of student is abhayand his subject is maths\n"
     ]
    }
   ],
   "source": [
    "class student():\n",
    "    def __init__(self,name,subject):\n",
    "        self.name=name\n",
    "        self.subject=subject\n",
    "    def get_name(self):\n",
    "        \n",
    "        print(\"name of student is \"+self.name+\"and his subject is \"+self.subject)\n",
    "abhay=student(\"abhay\",\"maths\")\n",
    "abhay.get_name()\n",
    "rahul=student(\"rahul\",\"\")\n",
    "rahul.get_name()      \n",
    "    "
   ]
  },
  {
   "cell_type": "code",
   "execution_count": 5,
   "id": "6b2f12ac-4146-4371-860e-965ec1465a7f",
   "metadata": {},
   "outputs": [
    {
     "name": "stdout",
     "output_type": "stream",
     "text": [
      "abhay is good boy\n"
     ]
    }
   ],
   "source": [
    "a=\"abhay is good boy\"\n",
    "print(a[:])"
   ]
  },
  {
   "cell_type": "code",
   "execution_count": 6,
   "id": "a2de4882-361b-4154-baa6-8073ab243b21",
   "metadata": {},
   "outputs": [
    {
     "name": "stdout",
     "output_type": "stream",
     "text": [
      "abha\n"
     ]
    }
   ],
   "source": [
    "print(a[:4])"
   ]
  },
  {
   "cell_type": "code",
   "execution_count": 7,
   "id": "0107180a-e4be-471f-8564-461161b86947",
   "metadata": {},
   "outputs": [
    {
     "name": "stdout",
     "output_type": "stream",
     "text": [
      "yob doog si yahba\n"
     ]
    }
   ],
   "source": [
    "print(a[::-1])"
   ]
  },
  {
   "cell_type": "code",
   "execution_count": 9,
   "id": "f80fbe18-1642-408f-a075-6c7133bfb526",
   "metadata": {},
   "outputs": [
    {
     "name": "stdout",
     "output_type": "stream",
     "text": [
      "luhar\n"
     ]
    }
   ],
   "source": [
    "b=\"rahul\"\n",
    "print(b[::-1])"
   ]
  },
  {
   "cell_type": "code",
   "execution_count": 15,
   "id": "a1fd936d-7bc4-4077-bfa9-da206d88a3e9",
   "metadata": {},
   "outputs": [
    {
     "name": "stdout",
     "output_type": "stream",
     "text": [
      "17\n"
     ]
    }
   ],
   "source": [
    "print(len(a))"
   ]
  },
  {
   "cell_type": "code",
   "execution_count": 22,
   "id": "57c215f7-108d-4b31-9ee7-510dde762ea4",
   "metadata": {
    "tags": []
   },
   "outputs": [
    {
     "name": "stdout",
     "output_type": "stream",
     "text": [
      "17\n"
     ]
    }
   ],
   "source": [
    "v=0\n",
    "while v<len(a):\n",
    "    v+=1\n",
    "print(v)"
   ]
  },
  {
   "cell_type": "code",
   "execution_count": 32,
   "id": "c52d2dc6-c803-4648-808c-9352db9f8e38",
   "metadata": {
    "tags": []
   },
   "outputs": [
    {
     "name": "stdout",
     "output_type": "stream",
     "text": [
      "12\n"
     ]
    }
   ],
   "source": [
    "def abc(str):\n",
    "    count = 0\n",
    "    for i in str:\n",
    "        count+=1\n",
    "    return count\n",
    "\n",
    "str=\"abhi mat bol\"\n",
    "\n",
    "print(abc(str))\n",
    "        "
   ]
  },
  {
   "cell_type": "code",
   "execution_count": 29,
   "id": "2ad5992f-3159-49c4-bd80-0b5af5a9e5ac",
   "metadata": {
    "tags": []
   },
   "outputs": [
    {
     "name": "stdout",
     "output_type": "stream",
     "text": [
      "5\n"
     ]
    }
   ],
   "source": [
    "def findLen(str):\n",
    "    counter = 0   \n",
    "    for i in str:\n",
    "        counter += 1\n",
    "    return counter\n",
    " \n",
    " \n",
    "str = \"geeks\"\n",
    "print(findLen(str))"
   ]
  },
  {
   "cell_type": "code",
   "execution_count": 34,
   "id": "02d44491-8b9d-454a-b8e9-4a1b25ccaac6",
   "metadata": {},
   "outputs": [
    {
     "name": "stdout",
     "output_type": "stream",
     "text": [
      "156 True\n"
     ]
    }
   ],
   "source": [
    "def is_prime(n):\n",
    "    if n in [2, 3]:\n",
    "        return True\n",
    "    if (n == 1) or (n % 2 == 0):\n",
    "        return n*2\n",
    "    r = 3\n",
    "    while r * r <= n:\n",
    "        if n % r == 0:\n",
    "            return False\n",
    "        r += 2\n",
    "    return True\n",
    "print(is_prime(78), is_prime(79))"
   ]
  },
  {
   "cell_type": "code",
   "execution_count": null,
   "id": "8b5873c6-2945-44ec-816e-987539c11a3f",
   "metadata": {},
   "outputs": [],
   "source": [
    "def abc():\n",
    "    if n in [2,3]:\n",
    "        return True\n",
    "    if n==0 or n==1:\n",
    "        return \"no no noo\"\n",
    "    "
   ]
  },
  {
   "cell_type": "code",
   "execution_count": 46,
   "id": "f24f92e6-ead2-4fab-be95-0c2ad8da5cba",
   "metadata": {},
   "outputs": [
    {
     "ename": "TypeError",
     "evalue": "'int' object is not iterable",
     "output_type": "error",
     "traceback": [
      "\u001b[0;31m---------------------------------------------------------------------------\u001b[0m",
      "\u001b[0;31mTypeError\u001b[0m                                 Traceback (most recent call last)",
      "Cell \u001b[0;32mIn[46], line 4\u001b[0m\n\u001b[1;32m      2\u001b[0m x\u001b[38;5;241m=\u001b[39ma\u001b[38;5;241m.\u001b[39msplit()\n\u001b[1;32m      3\u001b[0m b\u001b[38;5;241m=\u001b[39m[]\n\u001b[0;32m----> 4\u001b[0m \u001b[38;5;28;01mfor\u001b[39;00m i \u001b[38;5;129;01min\u001b[39;00m \u001b[38;5;28mlen\u001b[39m(x):\n\u001b[1;32m      5\u001b[0m     \u001b[38;5;28;01mif\u001b[39;00m i\u001b[38;5;241m.\u001b[39misnumeric():\n\u001b[1;32m      6\u001b[0m         b\u001b[38;5;241m.\u001b[39mappend(\u001b[38;5;28mint\u001b[39m(i))\n",
      "\u001b[0;31mTypeError\u001b[0m: 'int' object is not iterable"
     ]
    }
   ],
   "source": [
    "a=\"qwert!@#123\"\n",
    "x=a.split()\n",
    "b=[]\n",
    "for i in len(x):\n",
    "    if i.isnumeric():\n",
    "        b.append(int(i))\n",
    "print(str(b))"
   ]
  },
  {
   "cell_type": "code",
   "execution_count": 47,
   "id": "3b7cc5b3-9d20-4ab8-b268-031bed1a1ddf",
   "metadata": {},
   "outputs": [
    {
     "ename": "TypeError",
     "evalue": "'str' object is not callable",
     "output_type": "error",
     "traceback": [
      "\u001b[0;31m---------------------------------------------------------------------------\u001b[0m",
      "\u001b[0;31mTypeError\u001b[0m                                 Traceback (most recent call last)",
      "Cell \u001b[0;32mIn[47], line 9\u001b[0m\n\u001b[1;32m      7\u001b[0m         res\u001b[38;5;241m.\u001b[39mappend(\u001b[38;5;28mint\u001b[39m(i))\n\u001b[1;32m      8\u001b[0m \u001b[38;5;66;03m# print result\u001b[39;00m\n\u001b[0;32m----> 9\u001b[0m \u001b[38;5;28mprint\u001b[39m(\u001b[38;5;124m\"\u001b[39m\u001b[38;5;124mThe numbers list is : \u001b[39m\u001b[38;5;124m\"\u001b[39m \u001b[38;5;241m+\u001b[39m \u001b[38;5;28mstr\u001b[39m(res))\n",
      "\u001b[0;31mTypeError\u001b[0m: 'str' object is not callable"
     ]
    }
   ],
   "source": [
    "test_string = \"There are 2 apples for 4 persons\" \n",
    "# getting numbers from string\n",
    "res = []\n",
    "x=test_string.split()\n",
    "for i in x:\n",
    "    if i.isnumeric():\n",
    "        res.append(int(i))\n",
    "# print result\n",
    "print(\"The numbers list is : \" + str(res))\n"
   ]
  },
  {
   "cell_type": "code",
   "execution_count": 49,
   "id": "108cd773-f89b-438c-b6c1-bc73daadc642",
   "metadata": {},
   "outputs": [
    {
     "name": "stdout",
     "output_type": "stream",
     "text": [
      "True\n"
     ]
    }
   ],
   "source": [
    "c='1233'\n",
    "print(c.isdigit())"
   ]
  },
  {
   "cell_type": "code",
   "execution_count": 70,
   "id": "0fedf569-7cbb-4df6-a9da-151856730c97",
   "metadata": {},
   "outputs": [],
   "source": [
    "c='abc'.split()\n",
    "def abc():\n",
    "    for i in c:\n",
    "        if i.isalpha():\n",
    "            print(i)"
   ]
  },
  {
   "cell_type": "code",
   "execution_count": 68,
   "id": "079913b6-3fbd-44e8-96c3-e5c641cb2fed",
   "metadata": {},
   "outputs": [
    {
     "name": "stdout",
     "output_type": "stream",
     "text": [
      "1\n",
      "2\n",
      "3\n"
     ]
    }
   ],
   "source": [
    "c = '123'\n",
    "for i in c:\n",
    "    if i.isdigit():\n",
    "        print(i)\n"
   ]
  },
  {
   "cell_type": "code",
   "execution_count": 76,
   "id": "05bf4e55-b811-43a6-88cf-dc7d2c17b6f8",
   "metadata": {},
   "outputs": [
    {
     "name": "stdout",
     "output_type": "stream",
     "text": [
      "abc"
     ]
    }
   ],
   "source": [
    "c = '123abc'\n",
    "for index, char in enumerate(c):\n",
    "    if char.isalpha():\n",
    "        print(char,end=\"\")\n"
   ]
  },
  {
   "cell_type": "code",
   "execution_count": 80,
   "id": "6e568124-4020-45de-ab9c-d5ed5f5415b4",
   "metadata": {},
   "outputs": [
    {
     "name": "stdout",
     "output_type": "stream",
     "text": [
      "qwertypower"
     ]
    }
   ],
   "source": [
    "c = \"qwerty!@#power\"\n",
    "for i, char in enumerate(c):\n",
    "    if char.isalpha():\n",
    "        print(char,end=\"\")"
   ]
  },
  {
   "cell_type": "code",
   "execution_count": 4,
   "id": "6d41aa6a-ea10-4b2e-b9cf-30e0b64a3fc7",
   "metadata": {},
   "outputs": [
    {
     "name": "stdout",
     "output_type": "stream",
     "text": [
      "e"
     ]
    }
   ],
   "source": [
    "STR=\"programming need practice\"\n",
    "for i in str.split('e'):\n",
    "    print(i,end='')"
   ]
  },
  {
   "cell_type": "code",
   "execution_count": 13,
   "id": "25b5b176-67d3-4eef-a1e7-e827921be2c0",
   "metadata": {
    "tags": []
   },
   "outputs": [
    {
     "name": "stdout",
     "output_type": "stream",
     "text": [
      "iininpinpuinputHello None\n"
     ]
    }
   ],
   "source": [
    "str=\"input\"\n",
    "def abc():\n",
    "    for i in range(len(str)):\n",
    "        print(str[:i+1],end='')\n",
    "print(\"Hello\",abc())"
   ]
  },
  {
   "cell_type": "markdown",
   "id": "c71cc623-883c-4668-ac1f-b5e156eb15a1",
   "metadata": {},
   "source": [
    "# OBJECT ORIENTED PROGRAMMING "
   ]
  },
  {
   "cell_type": "code",
   "execution_count": 7,
   "id": "803bc42c-7e0f-4762-af2c-2dff21b52bd4",
   "metadata": {},
   "outputs": [
    {
     "name": "stdout",
     "output_type": "stream",
     "text": [
      "piyush singh\n",
      "test\n"
     ]
    }
   ],
   "source": [
    "class abc:\n",
    "    pass\n",
    "\n",
    "person1=abc()\n",
    "a_2=abc()\n",
    "\n",
    "\n",
    "person1.name='piyush'\n",
    "person1.last='singh'\n",
    "person1.pay='3000'\n",
    "person1.email='corey.chase@gmail.com'\n",
    "\n",
    "a_2.name='abhi'\n",
    "a_2.last='test'\n",
    "a_2.pay='2000'\n",
    "a_2.email='abhi_test@gmail.com'\n",
    "\n",
    "print(person1.name,person1.last)\n",
    "print(a_2.last)\n"
   ]
  },
  {
   "cell_type": "code",
   "execution_count": 28,
   "id": "4a743283-4b33-4467-b33e-450a806f7357",
   "metadata": {
    "tags": []
   },
   "outputs": [
    {
     "name": "stdout",
     "output_type": "stream",
     "text": [
      "anil is brother of raju and they gamil is anilsingh@gmail.com and rajusingh@gmail.com respectively\n"
     ]
    }
   ],
   "source": [
    "class employee:\n",
    "    pass\n",
    "\n",
    "a1=employee()\n",
    "a2=employee()\n",
    "\n",
    "a1.first=\"anil\"\n",
    "a1.last=\"singh\"\n",
    "a1.email=\"anilsingh@gmail.com\"\n",
    "\n",
    "a2.first=\"raju\"\n",
    "a2.last=\"singh\"\n",
    "a2.email=\"rajusingh@gmail.com\"\n",
    "\n",
    "print(f\"{a1.first} is brother of {a2.first} and they gamil is {a1.email} and {a2.email} respectively\")\n"
   ]
  },
  {
   "cell_type": "code",
   "execution_count": 30,
   "id": "6915bf8a-c6b0-4fe1-8297-4db0593038bb",
   "metadata": {},
   "outputs": [
    {
     "name": "stdout",
     "output_type": "stream",
     "text": [
      "anil raju\n"
     ]
    }
   ],
   "source": [
    "print(a1.first,a2.first)"
   ]
  },
  {
   "cell_type": "code",
   "execution_count": 22,
   "id": "1226721f-20a6-4b97-a8be-2a7e5feb22a8",
   "metadata": {
    "tags": []
   },
   "outputs": [
    {
     "name": "stdout",
     "output_type": "stream",
     "text": [
      "white is good color\n",
      "white is good color\n"
     ]
    }
   ],
   "source": [
    "class car:\n",
    "    \n",
    "    def __init__(self,first,colo,net_worth):\n",
    "        \n",
    "        self.first=first\n",
    "        self.co=colo\n",
    "        self.net_worth=net_worth\n",
    "        \n",
    "b1=car(\"maruti\",\"red\",'billion')\n",
    "b2=car(\"BMW\",\"white\",'billion')\n",
    "\n",
    "print(b2.co +\" \" + \"is good color\")\n",
    "print(f\"{b2.co} is good color\")"
   ]
  },
  {
   "cell_type": "code",
   "execution_count": 58,
   "id": "4ed82951-188c-4ab9-8b82-188e0dfe528e",
   "metadata": {
    "tags": []
   },
   "outputs": [
    {
     "name": "stdout",
     "output_type": "stream",
     "text": [
      "rahul singh\n"
     ]
    }
   ],
   "source": [
    "class employee:\n",
    "    \n",
    "    def __init__(self,fname,lname,pay):\n",
    "        \n",
    "        self.fname=fname\n",
    "        self.lname=lname\n",
    "        self.pay=pay\n",
    "        self.email=fname+'.'+lname+'@gmail.com'\n",
    "        \n",
    "    def fullname(self):\n",
    "            return (\"{} {}\".format(self.fname,self.lname))\n",
    "        \n",
    "emp1=employee('rahul','singh',3000)\n",
    "emp2=employee('shyam','singh',20000)\n",
    "    \n",
    "print(emp1.fullname())\n",
    "\n",
    "            "
   ]
  },
  {
   "cell_type": "code",
   "execution_count": 73,
   "id": "2441ca62-367a-467f-a376-9c62f3fa6ad2",
   "metadata": {
    "tags": []
   },
   "outputs": [
    {
     "name": "stdout",
     "output_type": "stream",
     "text": [
      "fname4 lname4\n"
     ]
    }
   ],
   "source": [
    "class abc:\n",
    "    \n",
    "    def __init__ (self,fname,lname,pay):\n",
    "        \n",
    "        self.fname=fname\n",
    "        self.lname=lname\n",
    "        self.pay=pay\n",
    "    \n",
    "    def fullname(self):\n",
    "        return (f'{self.fname} {self.lname}')\n",
    "    \n",
    "    \n",
    "emp3=abc('fname3','lname3',5000)\n",
    "emp4=abc('fname4','lname4',4000)\n",
    "    \n",
    "print(emp4.fullname())"
   ]
  },
  {
   "cell_type": "code",
   "execution_count": 78,
   "id": "87ae0694-caaa-48d0-9fb3-36847ad1f6e1",
   "metadata": {
    "tags": []
   },
   "outputs": [
    {
     "name": "stdout",
     "output_type": "stream",
     "text": [
      "fname4 lname4\n"
     ]
    }
   ],
   "source": [
    "class abc:\n",
    "    \n",
    "    def __init__ (self,fname,lname,pay):\n",
    "        \n",
    "        self.fname=fname\n",
    "        self.lname=lname\n",
    "        self.pay=pay\n",
    "    \n",
    "    def fullname(self):\n",
    "        return (f'{self.fname} {self.lname}')\n",
    "    \n",
    "    \n",
    "emp3=abc('fname3','lname3',5000)\n",
    "emp4=abc('fname4','lname4',4000)\n",
    "    \n",
    "    \n",
    "    \n",
    "    \n",
    "    #calling with class\n",
    "abc.fullname(emp3)\n",
    "\n",
    "    #calling with instance\n",
    "emp3.fullname()\n",
    "    \n",
    "    #calling using print \n",
    "print(emp4.fullname())"
   ]
  },
  {
   "cell_type": "markdown",
   "id": "7bf08a5a-284a-4f9e-9de3-3be475450627",
   "metadata": {
    "tags": []
   },
   "source": [
    "### working with class"
   ]
  },
  {
   "cell_type": "code",
   "execution_count": 39,
   "id": "894ae4dd-7387-4cd9-babc-6d14183e6877",
   "metadata": {
    "tags": []
   },
   "outputs": [
    {
     "data": {
      "text/plain": [
       "52000"
      ]
     },
     "execution_count": 39,
     "metadata": {},
     "output_type": "execute_result"
    }
   ],
   "source": [
    "#class variable are shared among all the instances  of class\n",
    "#so while instances variable can be unique \n",
    "\n",
    "#class variable should be same \n",
    "\n",
    "\n",
    "class abcd:\n",
    "    \n",
    "    def __init__ (self,fname,lname,pay):\n",
    "        \n",
    "        self.fname=fname\n",
    "        self.lname=lname\n",
    "        self.pay=pay\n",
    "        \n",
    "    def fullname(self):\n",
    "        return '{} {}'.format(self.fname,self.lname)\n",
    "    \n",
    "    def apply_rise(self):\n",
    "        self.pay = int(self.pay * 1.04) \n",
    "        return self.pay\n",
    "    \n",
    "person1=abcd('abhay','sharma',50000)\n",
    "person2=abcd('rahul','singh',60000)\n",
    "\n",
    "#print(person1.pay)\n",
    "# abcd.fullname(person1)\n",
    "abcd.apply_rise(person1)\n",
    "# person1.pay\n"
   ]
  },
  {
   "cell_type": "code",
   "execution_count": 107,
   "id": "e4917fe9-78c9-4119-b6ee-777c15436d23",
   "metadata": {
    "tags": []
   },
   "outputs": [
    {
     "name": "stdout",
     "output_type": "stream",
     "text": [
      "{'fname': 'abhay', 'lname': 'sharma', 'pay': 50000, 'raise_amount': 1.06}\n",
      "50000\n",
      "53000\n",
      "1.05\n",
      "1.06\n",
      "1.05\n"
     ]
    }
   ],
   "source": [
    "\n",
    "\n",
    "class abcd:\n",
    "    \n",
    "    raise_amount = 1.04\n",
    "    \n",
    "    def __init__ (self,fname,lname,pay):\n",
    "        \n",
    "        self.fname=fname\n",
    "        self.lname=lname\n",
    "        self.pay=pay\n",
    "        \n",
    "    def fullname(self):\n",
    "        return '{} {}'.format(self.fname,self.lname)\n",
    "    \n",
    "    def apply_raise(self):\n",
    "        self.pay = int(self.pay * self.raise_amount) #self(instence) ke jagah per class bhi use kar sakte hai  \n",
    "    \n",
    "person1=abcd('abhay','sharma',50000)\n",
    "person2=abcd('rahul','singh',60000)\n",
    "\n",
    "# if you want to raise amount for only person then \n",
    "person1.raise_amount=1.06\n",
    "print(person1.__dict__)\n",
    "\n",
    "\n",
    "print(person1.pay)\n",
    "person1.apply_raise()\n",
    "print(person1.pay)\n",
    "\n",
    "\n",
    "abcd.raise_amount=1.05\n",
    "\n",
    "\n",
    "print(abcd.raise_amount)\n",
    "#way we can excess raise_amount\n",
    "\n",
    "print(person1.raise_amount)\n",
    "print(person2.raise_amount)\n",
    "\n",
    "\n",
    "#print(abcd.__dict__)"
   ]
  },
  {
   "cell_type": "code",
   "execution_count": 10,
   "id": "06a70c43-cb17-457a-943c-428bf48a7512",
   "metadata": {
    "tags": []
   },
   "outputs": [
    {
     "name": "stdout",
     "output_type": "stream",
     "text": [
      "3\n"
     ]
    }
   ],
   "source": [
    "\n",
    "\n",
    "# COUNTING TOTAL NUMBER OF INSTANCE IN CLASS\n",
    "\n",
    "class employee:\n",
    "    \n",
    "    num_of_emps = 0\n",
    "    \n",
    "    def __init__(self,fname,lname,pay):\n",
    "        \n",
    "        self.fname=fname\n",
    "        self.lname=lname\n",
    "        self.pay=pay\n",
    "        \n",
    "        employee.num_of_emps += 1\n",
    "        \n",
    "    def fullname(self):\n",
    "        return '{fname} {lname}'.format(self.fname,self.lname)\n",
    "    \n",
    "emp_1=employee('name','last',5000)\n",
    "emp_2=employee('name','last',4000)\n",
    "emp_3=employee('name','last',3000)\n",
    "    \n",
    "print(employee.num_of_emps)"
   ]
  },
  {
   "cell_type": "code",
   "execution_count": 29,
   "id": "db34ab1d-403a-4cae-b238-00c06a4d2cd3",
   "metadata": {
    "tags": []
   },
   "outputs": [
    {
     "ename": "SyntaxError",
     "evalue": "invalid syntax (2454274346.py, line 3)",
     "output_type": "error",
     "traceback": [
      "\u001b[0;36m  Cell \u001b[0;32mIn[29], line 3\u001b[0;36m\u001b[0m\n\u001b[0;31m    def__init__(self,name1,name2):\u001b[0m\n\u001b[0m                                 ^\u001b[0m\n\u001b[0;31mSyntaxError\u001b[0m\u001b[0;31m:\u001b[0m invalid syntax\n"
     ]
    }
   ],
   "source": [
    "class person:\n",
    "    \n",
    "    def__init__(self,name1,name2):\n",
    "        \n",
    "        self.n1=name1\n",
    "        self.n2=name2\n",
    "        \n",
    "    print(f\"{self.name1} and \")"
   ]
  },
  {
   "cell_type": "code",
   "execution_count": 3,
   "id": "18be0e0e-c588-4650-b703-66ebe39cf281",
   "metadata": {
    "tags": []
   },
   "outputs": [
    {
     "ename": "SyntaxError",
     "evalue": "invalid syntax (3774619893.py, line 1)",
     "output_type": "error",
     "traceback": [
      "\u001b[0;36m  Cell \u001b[0;32mIn[3], line 1\u001b[0;36m\u001b[0m\n\u001b[0;31m    reverse of file .......\u001b[0m\n\u001b[0m            ^\u001b[0m\n\u001b[0;31mSyntaxError\u001b[0m\u001b[0;31m:\u001b[0m invalid syntax\n"
     ]
    }
   ],
   "source": [
    "\n",
    "\n",
    "reverse of file .......\n",
    "\n",
    "\n",
    "fin=open('sample.txt','r')\n",
    "\n",
    "for line in fin:\n",
    "    \n",
    "    print(line[::-1] ,end=\" \")\n",
    "    \n",
    "fin.close()"
   ]
  },
  {
   "cell_type": "code",
   "execution_count": null,
   "id": "fdb8df0a-1b4c-48cf-a273-3fe3145569e5",
   "metadata": {},
   "outputs": [],
   "source": [
    "import pickle\n"
   ]
  }
 ],
 "metadata": {
  "kernelspec": {
   "display_name": "Python 3 (ipykernel)",
   "language": "python",
   "name": "python3"
  },
  "language_info": {
   "codemirror_mode": {
    "name": "ipython",
    "version": 3
   },
   "file_extension": ".py",
   "mimetype": "text/x-python",
   "name": "python",
   "nbconvert_exporter": "python",
   "pygments_lexer": "ipython3",
   "version": "3.11.5"
  }
 },
 "nbformat": 4,
 "nbformat_minor": 5
}
