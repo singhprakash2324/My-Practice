{
 "cells": [
  {
   "cell_type": "code",
   "execution_count": 8,
   "id": "a6d33b3b-6ab1-4147-9c02-08dcda54d39a",
   "metadata": {
    "tags": []
   },
   "outputs": [
    {
     "name": "stdout",
     "output_type": "stream",
     "text": [
      "abhay xi maths\n",
      "anurag xii PCB\n"
     ]
    }
   ],
   "source": [
    "class student:\n",
    "    pass\n",
    "\n",
    "    def getdetails(self):\n",
    "        return print(self.name,self.class_name,self.subject)\n",
    "    \n",
    "student1=student()\n",
    "\n",
    "student2=student()\n",
    "    \n",
    "student1.name='abhay'\n",
    "student1.class_name='xi'\n",
    "student1.subject='maths'\n",
    "\n",
    "student2.name='anurag'\n",
    "student2.class_name='xii'\n",
    "student2.subject='PCB'\n",
    "\n",
    "student1.getdetails()\n",
    "student2.getdetails()"
   ]
  },
  {
   "cell_type": "code",
   "execution_count": 17,
   "id": "7a63cae1-1fc8-44ec-9bdd-f050a2a6a71c",
   "metadata": {
    "tags": []
   },
   "outputs": [
    {
     "name": "stdout",
     "output_type": "stream",
     "text": [
      "abbhbay singh\n"
     ]
    }
   ],
   "source": [
    "class employee:\n",
    "    def __init__(self,fname,lname,earning):\n",
    "        self.fname=fname\n",
    "        self.lname=lname\n",
    "        self.earning=earning\n",
    "        \n",
    "    def fullname(self):\n",
    "        print(f\"{self.fname} {self.lname}\")\n",
    "              \n",
    "emp_1=employee('abbhbay',\"singh\",5000)\n",
    "emp_2=employee('lucky',\"singh\",5000)\n",
    "\n",
    "emp_1.fullname()             \n"
   ]
  },
  {
   "cell_type": "code",
   "execution_count": 15,
   "id": "5ab60352-0812-4a5b-b75f-baef52bfa3fb",
   "metadata": {
    "tags": []
   },
   "outputs": [
    {
     "name": "stdout",
     "output_type": "stream",
     "text": [
      "abhay singh\n"
     ]
    }
   ],
   "source": [
    "class Employee:\n",
    "    def __init__(self, fname, lname, earning):\n",
    "        self.fname = fname\n",
    "        self.lname = lname\n",
    "        self.earning = earning\n",
    "\n",
    "    def fullname(self):\n",
    "        print(f\"{self.fname} {self.lname}\")\n",
    "\n",
    "# Creating instances of the employee class with values\n",
    "emp_1 = Employee('abhay', 'singh', 5000)\n",
    "emp_2 = Employee('lucky', 'singh', 5000)\n",
    "\n",
    "# Calling the fullname method on an instance\n",
    "emp_1.fullname()\n"
   ]
  },
  {
   "cell_type": "code",
   "execution_count": 31,
   "id": "04325be8-2b1a-4d03-bf22-1958241f7765",
   "metadata": {
    "tags": []
   },
   "outputs": [
    {
     "name": "stdin",
     "output_type": "stream",
     "text": [
      "p1 name : anil\n",
      "p2 name : ram\n"
     ]
    },
    {
     "name": "stdout",
     "output_type": "stream",
     "text": [
      "anil\n",
      "ram\n",
      "rahul dhbkhbh\n"
     ]
    }
   ],
   "source": [
    "class Person:\n",
    "    def setName(self,name):\n",
    "        self.name=name\n",
    "    def getName(self):\n",
    "        return print(self.name)\n",
    "    \n",
    "p1=Person()\n",
    "p2=Person()\n",
    "\n",
    "name1=input(\"p1 name :\")\n",
    "name2=input(\"p2 name :\")\n",
    "\n",
    "p1.setName(name1)\n",
    "p2.setName(name2)\n",
    "\n",
    "p1.getName()\n",
    "p2.getName()\n",
    "print(\"rahul dhbkhbh\")"
   ]
  },
  {
   "cell_type": "code",
   "execution_count": 32,
   "id": "53a8da0d-0d35-4f35-8e8b-50710f7382eb",
   "metadata": {
    "tags": []
   },
   "outputs": [
    {
     "name": "stdout",
     "output_type": "stream",
     "text": [
      "abhay singh\n"
     ]
    }
   ],
   "source": [
    "class Employee:\n",
    "    def __init__(self, fname, lname, earning):\n",
    "        self.fname = fname\n",
    "        self.lname = lname\n",
    "        self.earning = earning\n",
    "\n",
    "    def fullname(self):\n",
    "        print(f\"{self.fname} {self.lname}\")\n",
    "\n",
    "# Creating instances of the employee class with values\n",
    "emp_1 = Employee('abhay', 'singh', 5000)\n",
    "emp_2 = Employee('lucky', 'singh', 5000)\n",
    "\n",
    "# Calling the fullname method on an instance\n",
    "emp_1.fullname()"
   ]
  },
  {
   "cell_type": "code",
   "execution_count": 42,
   "id": "89830826-ef02-4aea-87c6-5e96860f9c4a",
   "metadata": {
    "tags": []
   },
   "outputs": [
    {
     "name": "stdout",
     "output_type": "stream",
     "text": [
      "anilsingh\n",
      "anilsingh\n"
     ]
    }
   ],
   "source": [
    "class babu:\n",
    "    def setbabu(self,fname,lname):\n",
    "        self.fname=fname\n",
    "        self.lname=lname\n",
    "        \n",
    "    # def getbabu(self):\n",
    "    #     return self.fname\n",
    "    def info(self):\n",
    "        print(f\"{self.fname}{self.lname}\")\n",
    "        \n",
    "babu_1=babu()\n",
    "babu_2=babu()\n",
    "\n",
    "babu_1.setbabu(\"anil\",\"singh\")\n",
    "babu_2.setbabu(\"anil\",\"singh\")\n",
    "\n",
    "babu_1.info()\n",
    "babu_2.info()"
   ]
  },
  {
   "cell_type": "code",
   "execution_count": 46,
   "id": "b620398b-4eb1-4476-b24d-7755a1a6b089",
   "metadata": {
    "tags": []
   },
   "outputs": [
    {
     "name": "stdin",
     "output_type": "stream",
     "text": [
      " anil \n",
      " ram\n"
     ]
    },
    {
     "name": "stdout",
     "output_type": "stream",
     "text": [
      "helloanil  \n",
      "helloanil ram\n"
     ]
    }
   ],
   "source": [
    "class Greeting:\n",
    "    def sayhello (self,name,wish=\" \"):\n",
    "        if name and wish :\n",
    "            print(\"hello\"+name +wish)\n",
    "        else :\n",
    "            print(\"hello\"+name)\n",
    "            \n",
    "a = input()\n",
    "b = input()\n",
    "\n",
    "greet=Greeting()\n",
    "\n",
    "greet.sayhello(a)\n",
    "greet.sayhello(a,b)"
   ]
  },
  {
   "cell_type": "code",
   "execution_count": 58,
   "id": "25513639-a50d-42c8-a54e-fe992f78b63b",
   "metadata": {
    "tags": []
   },
   "outputs": [
    {
     "name": "stdout",
     "output_type": "stream",
     "text": [
      "100\n",
      "200\n"
     ]
    }
   ],
   "source": [
    "class Area:\n",
    "    \n",
    "    def ar(self,a=None,b=None):\n",
    "        if a!=None and b!=None :\n",
    "            print(a*b)\n",
    "            \n",
    "        elif a!=None:\n",
    "            print(a*a)\n",
    "        else:\n",
    "            print(\"Nothing\")\n",
    "            \n",
    "\n",
    "area_1=Area()\n",
    "\n",
    "area_1.ar(10)\n",
    "area_1.ar(10,20)"
   ]
  },
  {
   "cell_type": "code",
   "execution_count": 65,
   "id": "5da345c5-373d-4345-ac89-1924ca0d8702",
   "metadata": {
    "tags": []
   },
   "outputs": [
    {
     "name": "stdout",
     "output_type": "stream",
     "text": [
      "EV\n",
      "SUV\n"
     ]
    }
   ],
   "source": [
    "class Car:\n",
    "    def setenginemodel(self,engine):\n",
    "        self.engine=engine\n",
    "        \n",
    "    def getenginemodel(self):\n",
    "        return self.engine\n",
    "    \n",
    "class Honda(Car):\n",
    "    def setcarmodel (self,model):\n",
    "        self.model=model\n",
    "        \n",
    "    def getcarmodel (self):\n",
    "        return self.model\n",
    "\n",
    "mycar = Honda()\n",
    "mycar.setenginemodel('EV')\n",
    "mycar.setcarmodel('SUV')\n",
    "\n",
    "print(mycar.getenginemodel())\n",
    "print(mycar.getcarmodel())\n",
    "\n"
   ]
  },
  {
   "cell_type": "code",
   "execution_count": 81,
   "id": "19aeb907-092a-452e-ab83-ab1dd31b7f92",
   "metadata": {
    "tags": []
   },
   "outputs": [
    {
     "name": "stdout",
     "output_type": "stream",
     "text": [
      "Windows10\n",
      "Windows7\n"
     ]
    }
   ],
   "source": [
    "class Win:\n",
    "    \n",
    "    def setwin(self,name):\n",
    "        self.name=name\n",
    "        \n",
    "    def getwin(self):\n",
    "        return self.name\n",
    "    \n",
    "class Window(Win):\n",
    "    \n",
    "    def setwins(self,name_1):\n",
    "        self.name_1=name_1\n",
    "        \n",
    "    def getwins(self):\n",
    "        return self.name_1\n",
    "    \n",
    "mywin=Window()\n",
    "\n",
    "mywin.setwin('Windows10')\n",
    "mywin.setwins('Windows7')\n",
    "\n",
    "print(mywin.getwin())\n",
    "print(mywin.getwins())"
   ]
  },
  {
   "cell_type": "code",
   "execution_count": 84,
   "id": "8eb91ef9-5e8a-4332-9808-c2881a34aad6",
   "metadata": {
    "tags": []
   },
   "outputs": [
    {
     "name": "stdout",
     "output_type": "stream",
     "text": [
      "Windows7\n",
      "Windows7\n"
     ]
    }
   ],
   "source": [
    "class Win:\n",
    "    def setwin(self, name):\n",
    "        self.name = name\n",
    "\n",
    "    def getwin(self):\n",
    "        print( self.name)\n",
    "\n",
    "class Window(Win):\n",
    "    def setwins(self, name_1):\n",
    "        self.name = name_1\n",
    "\n",
    "    def getwins(self):\n",
    "        print(self.name)\n",
    "\n",
    "# Create an instance of the Window class\n",
    "mywindow = Window()\n",
    "\n",
    "# Use the methods of the base class (Win) on the Window instance\n",
    "mywindow.setwin('Windows10')\n",
    "\n",
    "# Use the methods of the derived class (Window)\n",
    "mywindow.setwins('Windows7')\n",
    "\n",
    "# Access the attributes using the methods\n",
    "mywindow.getwin()  # Output: Windows10\n",
    "mywindow.getwins()  # Output: Windows7\n"
   ]
  },
  {
   "cell_type": "code",
   "execution_count": 91,
   "id": "9688ed00-6567-435d-ad8e-a30b01cbd3a3",
   "metadata": {
    "tags": []
   },
   "outputs": [
    {
     "name": "stdout",
     "output_type": "stream",
     "text": [
      "abhi\n",
      "30\n"
     ]
    }
   ],
   "source": [
    "class person:\n",
    "    \n",
    "    def setname(self,name):\n",
    "        self.name=name\n",
    "        \n",
    "    def getname(self):\n",
    "        print(self.name)\n",
    "    \n",
    "class student(person):\n",
    "    \n",
    "    def setage(self,age):\n",
    "        self.age=age\n",
    "    \n",
    "    def getage(self):\n",
    "        print(self.age)\n",
    "        \n",
    "stud_1=student()\n",
    "\n",
    "stud_1.setname(\"abhi\")\n",
    "stud_1.setage(30)\n",
    "\n",
    "(stud_1.getname())\n",
    "\n",
    "(stud_1.getage())\n",
    "\n"
   ]
  },
  {
   "cell_type": "code",
   "execution_count": 94,
   "id": "0b3d514f-8de8-4d91-8a69-3cc02e4da2bc",
   "metadata": {
    "tags": []
   },
   "outputs": [
    {
     "name": "stdout",
     "output_type": "stream",
     "text": [
      "abhi\n",
      "maths\n",
      "30\n"
     ]
    }
   ],
   "source": [
    "class person:\n",
    "    \n",
    "    def setname(self,name):\n",
    "        self.name=name\n",
    "        \n",
    "    def getname(self):\n",
    "        print(self.name)\n",
    "    \n",
    "class student:\n",
    "    \n",
    "    def setage(self,age):\n",
    "        self.age=age\n",
    "    \n",
    "    def getage(self):\n",
    "        print(self.age)\n",
    "        \n",
    "class child(person,student):\n",
    "    \n",
    "    def setsubject(self,subject):\n",
    "        self.subject=subject\n",
    "    \n",
    "    def getsubject(self):\n",
    "        print(self.subject)        \n",
    "        \n",
    "stud_1=child()\n",
    "\n",
    "stud_1.setname(\"abhi\")\n",
    "stud_1.setage(30)\n",
    "stud_1.setsubject(\"maths\")\n",
    "\n",
    "(stud_1.getname())\n",
    "(stud_1.getsubject())\n",
    "(stud_1.getage())"
   ]
  },
  {
   "cell_type": "code",
   "execution_count": 97,
   "id": "386f7bee-6b9c-48df-864b-5125abe721d8",
   "metadata": {
    "tags": []
   },
   "outputs": [
    {
     "name": "stdout",
     "output_type": "stream",
     "text": [
      "abhi\n",
      "maths\n",
      "30\n"
     ]
    }
   ],
   "source": [
    "class person:\n",
    "    \n",
    "    def setname(self,name):\n",
    "        self.name=name\n",
    "        \n",
    "    def getname(self):\n",
    "        print(self.name)\n",
    "    \n",
    "class student(person):\n",
    "    \n",
    "    def setage(self,age):\n",
    "        self.age=age\n",
    "    \n",
    "    def getage(self):\n",
    "        print(self.age)\n",
    "        \n",
    "class child(student):\n",
    "    \n",
    "    def setsubject(self,subject):\n",
    "        self.subject=subject\n",
    "    \n",
    "    def getsubject(self):\n",
    "        print(self.subject)        \n",
    "        \n",
    "stud_1=child()\n",
    "\n",
    "stud_1.setname(\"abhi\")\n",
    "stud_1.setage(30)\n",
    "stud_1.setsubject(\"maths\")\n",
    "\n",
    "(stud_1.getname())\n",
    "(stud_1.getsubject())\n",
    "(stud_1.getage())"
   ]
  },
  {
   "cell_type": "code",
   "execution_count": 105,
   "id": "c6aa413a-4226-41f8-b4ce-284761fcf5a1",
   "metadata": {
    "tags": []
   },
   "outputs": [
    {
     "name": "stdout",
     "output_type": "stream",
     "text": [
      "car \t SUV \t 2000 \t car1212\n"
     ]
    }
   ],
   "source": [
    "class vehicle:\n",
    "    \n",
    "    def __init__(self,name,price,regno):\n",
    "        self.name=name\n",
    "        self.price=price\n",
    "        self.regno=regno\n",
    "        \n",
    "class car(vehicle):\n",
    "    \n",
    "    def __init__(self,name,price,regno,gear):\n",
    "        vehicle.__init__(self,name,price,regno)\n",
    "        self.gear=gear\n",
    "       \n",
    "        \n",
    "class boat(vehicle):\n",
    "    def __init__(self,name,price,regno):\n",
    "        vehicle.__init__(self,name,price,regno)\n",
    "\n",
    "class hover(car,boat):\n",
    "    def __init__(self,name,price,regno,gear):\n",
    "        \n",
    "        car.__init__(self,name,price,regno,gear)\n",
    "        boat.__init__(self,name,price,regno)\n",
    "            \n",
    "c1=car(\"SUV\",2000,'car1212','auto')\n",
    "b1=boat(\"speaker\",10000,'boat1212')\n",
    "h1=hover(\"toyota\",2300,'hover1212','manual')\n",
    "\n",
    "print(type(c1).__name__,\"\\t\",c1.name,\"\\t\",c1.price,\"\\t\",c1.regno)"
   ]
  },
  {
   "cell_type": "code",
   "execution_count": 108,
   "id": "94309705-f1dc-431d-8d3c-66a8d9ea0c04",
   "metadata": {
    "tags": []
   },
   "outputs": [],
   "source": [
    "# Write a Python program that allows the user to choose a type of animal and then create an object of that type. \n",
    "# The program should call the speak() method of the created object to demonstrate method overriding.\n",
    "\n"
   ]
  },
  {
   "cell_type": "code",
   "execution_count": 127,
   "id": "a8221f77-bdf3-45e3-9891-606b5b44035e",
   "metadata": {
    "tags": []
   },
   "outputs": [
    {
     "name": "stdin",
     "output_type": "stream",
     "text": [
      "enter type of animal mammal\n"
     ]
    },
    {
     "name": "stdout",
     "output_type": "stream",
     "text": [
      "mammal roar\n"
     ]
    }
   ],
   "source": [
    "class animal:\n",
    "    \n",
    "    def speak(self):\n",
    "        print(\"animal sound\")\n",
    "        \n",
    "class bird(animal):  \n",
    "    \n",
    "    def speak(self):\n",
    "        print(\"charp\")\n",
    "        \n",
    "class mammal(animal):\n",
    "    \n",
    "    def speak(self):\n",
    "        print(\"mammal roar\")\n",
    "        \n",
    "select = input(\"enter type of animal\")\n",
    "        \n",
    "if select == 'bird':\n",
    "    a=bird()\n",
    "    a.speak()\n",
    "elif select == 'mammal':\n",
    "    b=mammal()\n",
    "    b.speak()\n",
    "else:\n",
    "    print(\"invalid input\")"
   ]
  },
  {
   "cell_type": "code",
   "execution_count": 128,
   "id": "c2bb34e9-4190-487f-980f-c6d54d7ec69f",
   "metadata": {
    "tags": []
   },
   "outputs": [
    {
     "name": "stdin",
     "output_type": "stream",
     "text": [
      "enter name  anil\n",
      "age 22\n",
      "group maths\n",
      "rpass/fail pass\n"
     ]
    },
    {
     "data": {
      "text/plain": [
       "<bound method Student.getdetails of <__main__.Student object at 0x1053b5e10>>"
      ]
     },
     "execution_count": 128,
     "metadata": {},
     "output_type": "execute_result"
    }
   ],
   "source": [
    "class Student:\n",
    "    \n",
    "    def __init__(self,name,age):\n",
    "        self.name=name\n",
    "        self.age=age\n",
    "        \n",
    "    def setdetails(self,__group=\"ECE\",__report=\"fail\"):\n",
    "        self.__group=__group\n",
    "        self.__report=__report\n",
    "        \n",
    "    def getdetails(self):\n",
    "        print(name,age,self.__group,self.__report)\n",
    "        \n",
    "name=input(\"enter name \")\n",
    "age=int(input(\"age\"))\n",
    "group=input(\"group\")\n",
    "report=input(\"rpass/fail\")\n",
    "\n",
    "s1 = Student(name,age)\n",
    "s1.setdetails(group,report)\n",
    "\n",
    "s1.getdetails"
   ]
  },
  {
   "cell_type": "code",
   "execution_count": 129,
   "id": "dc28a13c-9670-4dab-ac99-52349525cfc5",
   "metadata": {
    "tags": []
   },
   "outputs": [
    {
     "name": "stdin",
     "output_type": "stream",
     "text": [
      "enter name:  anil\n",
      "enter age:  22\n",
      "enter group:  maths\n",
      "enter report (pass/fail):  pass\n"
     ]
    },
    {
     "name": "stdout",
     "output_type": "stream",
     "text": [
      "anil 22 maths pass\n"
     ]
    }
   ],
   "source": [
    "class Student:\n",
    "    def __init__(self, name, age):\n",
    "        self.name = name\n",
    "        self.age = age\n",
    "        self.__group = \"ECE\"  # Default values can be set in the constructor\n",
    "        self.__report = \"fail\"\n",
    "\n",
    "    def setdetails(self, group=\"ECE\", report=\"fail\"):\n",
    "        self.__group = group\n",
    "        self.__report = report\n",
    "\n",
    "    def getdetails(self):\n",
    "        print(self.name, self.age, self.__group, self.__report)\n",
    "\n",
    "name = input(\"enter name: \")\n",
    "age = int(input(\"enter age: \"))\n",
    "group = input(\"enter group: \")\n",
    "report = input(\"enter report (pass/fail): \")\n",
    "\n",
    "s1 = Student(name, age)\n",
    "s1.setdetails(group, report)\n",
    "\n",
    "s1.getdetails()\n"
   ]
  },
  {
   "cell_type": "code",
   "execution_count": null,
   "id": "05efef62-3d56-48d0-aa39-45d81e32cd13",
   "metadata": {},
   "outputs": [],
   "source": []
  },
  {
   "cell_type": "code",
   "execution_count": null,
   "id": "7f6bc59c-bf13-40ed-9219-b2244ec1286f",
   "metadata": {},
   "outputs": [],
   "source": []
  },
  {
   "cell_type": "code",
   "execution_count": null,
   "id": "c184eee5-756c-492b-bf71-e04e033df3f7",
   "metadata": {},
   "outputs": [],
   "source": []
  }
 ],
 "metadata": {
  "kernelspec": {
   "display_name": "Python 3 (ipykernel)",
   "language": "python",
   "name": "python3"
  },
  "language_info": {
   "codemirror_mode": {
    "name": "ipython",
    "version": 3
   },
   "file_extension": ".py",
   "mimetype": "text/x-python",
   "name": "python",
   "nbconvert_exporter": "python",
   "pygments_lexer": "ipython3",
   "version": "3.11.5"
  }
 },
 "nbformat": 4,
 "nbformat_minor": 5
}
